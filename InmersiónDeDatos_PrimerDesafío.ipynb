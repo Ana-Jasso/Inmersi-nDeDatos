{
  "nbformat": 4,
  "nbformat_minor": 0,
  "metadata": {
    "colab": {
      "provenance": [],
      "authorship_tag": "ABX9TyMF3p+FRErHT/anEjoOs4mX",
      "include_colab_link": true
    },
    "kernelspec": {
      "name": "python3",
      "display_name": "Python 3"
    },
    "language_info": {
      "name": "python"
    }
  },
  "cells": [
    {
      "cell_type": "markdown",
      "metadata": {
        "id": "view-in-github",
        "colab_type": "text"
      },
      "source": [
        "<a href=\"https://colab.research.google.com/github/Ana-Jasso/Inmersi-nDeDatos/blob/main/Inmersi%C3%B3nDeDatos_PrimerDesaf%C3%ADo.ipynb\" target=\"_parent\"><img src=\"https://colab.research.google.com/assets/colab-badge.svg\" alt=\"Open In Colab\"/></a>"
      ]
    },
    {
      "cell_type": "markdown",
      "source": [
        "# **Aula 1 - Desafíos.**\n",
        "- Promedio del área de todos los inmuebles en los barrios en el dataset. El top 10;\n",
        "- Consultar otros datos estadísticos, conteo, mediana, valores mínimo y máximo."
      ],
      "metadata": {
        "id": "_eXoKuyQ1DNH"
      }
    },
    {
      "cell_type": "code",
      "execution_count": null,
      "metadata": {
        "colab": {
          "base_uri": "https://localhost:8080/"
        },
        "id": "PXrP1vJVxbBY",
        "outputId": "e7f9a204-dc39-4465-dca6-7f76616e48d9"
      },
      "outputs": [
        {
          "output_type": "stream",
          "name": "stdout",
          "text": [
            "Mounted at /content/drive\n"
          ]
        }
      ],
      "source": [
        "from google.colab import drive\n",
        "\n",
        "drive.mount('/content/drive')"
      ]
    },
    {
      "cell_type": "code",
      "source": [
        "import pandas as pd\n",
        "\n",
        "inmuebles = pd.read_csv('/content/drive/MyDrive/InmersiónDeDatos/inmuebles_bogota.csv')"
      ],
      "metadata": {
        "id": "jNR-YsK91thm"
      },
      "execution_count": null,
      "outputs": []
    },
    {
      "cell_type": "code",
      "source": [
        "columnas = {'Baños':'Banos','Área':'Area'}\n",
        "inmuebles = inmuebles.rename(columns=columnas)\n",
        "inmuebles.sample(2)"
      ],
      "metadata": {
        "colab": {
          "base_uri": "https://localhost:8080/",
          "height": 112
        },
        "id": "39B-x38U53T9",
        "outputId": "1c578eab-de74-4189-8e1e-876482233bdf"
      },
      "execution_count": null,
      "outputs": [
        {
          "output_type": "execute_result",
          "data": {
            "text/plain": [
              "             Tipo                            Descripcion  Habitaciones  Banos  \\\n",
              "697   Apartamento  Apartamento en venta en Santa Barbara             2      2   \n",
              "1245  Apartamento        Apartamento en venta en Tintala             3      2   \n",
              "\n",
              "      Area         Barrio                                    UPZ  \\\n",
              "697     83  Santa Barbara  USAQUÉN: Country Club + Santa Bárbara   \n",
              "1245    62        Tintala                                Tintala   \n",
              "\n",
              "              Valor  \n",
              "697   $ 444.000.000  \n",
              "1245  $ 236.000.000  "
            ],
            "text/html": [
              "\n",
              "  <div id=\"df-5a792727-fcc1-4e7d-b7ba-1e389b3dd42e\">\n",
              "    <div class=\"colab-df-container\">\n",
              "      <div>\n",
              "<style scoped>\n",
              "    .dataframe tbody tr th:only-of-type {\n",
              "        vertical-align: middle;\n",
              "    }\n",
              "\n",
              "    .dataframe tbody tr th {\n",
              "        vertical-align: top;\n",
              "    }\n",
              "\n",
              "    .dataframe thead th {\n",
              "        text-align: right;\n",
              "    }\n",
              "</style>\n",
              "<table border=\"1\" class=\"dataframe\">\n",
              "  <thead>\n",
              "    <tr style=\"text-align: right;\">\n",
              "      <th></th>\n",
              "      <th>Tipo</th>\n",
              "      <th>Descripcion</th>\n",
              "      <th>Habitaciones</th>\n",
              "      <th>Banos</th>\n",
              "      <th>Area</th>\n",
              "      <th>Barrio</th>\n",
              "      <th>UPZ</th>\n",
              "      <th>Valor</th>\n",
              "    </tr>\n",
              "  </thead>\n",
              "  <tbody>\n",
              "    <tr>\n",
              "      <th>697</th>\n",
              "      <td>Apartamento</td>\n",
              "      <td>Apartamento en venta en Santa Barbara</td>\n",
              "      <td>2</td>\n",
              "      <td>2</td>\n",
              "      <td>83</td>\n",
              "      <td>Santa Barbara</td>\n",
              "      <td>USAQUÉN: Country Club + Santa Bárbara</td>\n",
              "      <td>$ 444.000.000</td>\n",
              "    </tr>\n",
              "    <tr>\n",
              "      <th>1245</th>\n",
              "      <td>Apartamento</td>\n",
              "      <td>Apartamento en venta en Tintala</td>\n",
              "      <td>3</td>\n",
              "      <td>2</td>\n",
              "      <td>62</td>\n",
              "      <td>Tintala</td>\n",
              "      <td>Tintala</td>\n",
              "      <td>$ 236.000.000</td>\n",
              "    </tr>\n",
              "  </tbody>\n",
              "</table>\n",
              "</div>\n",
              "      <button class=\"colab-df-convert\" onclick=\"convertToInteractive('df-5a792727-fcc1-4e7d-b7ba-1e389b3dd42e')\"\n",
              "              title=\"Convert this dataframe to an interactive table.\"\n",
              "              style=\"display:none;\">\n",
              "        \n",
              "  <svg xmlns=\"http://www.w3.org/2000/svg\" height=\"24px\"viewBox=\"0 0 24 24\"\n",
              "       width=\"24px\">\n",
              "    <path d=\"M0 0h24v24H0V0z\" fill=\"none\"/>\n",
              "    <path d=\"M18.56 5.44l.94 2.06.94-2.06 2.06-.94-2.06-.94-.94-2.06-.94 2.06-2.06.94zm-11 1L8.5 8.5l.94-2.06 2.06-.94-2.06-.94L8.5 2.5l-.94 2.06-2.06.94zm10 10l.94 2.06.94-2.06 2.06-.94-2.06-.94-.94-2.06-.94 2.06-2.06.94z\"/><path d=\"M17.41 7.96l-1.37-1.37c-.4-.4-.92-.59-1.43-.59-.52 0-1.04.2-1.43.59L10.3 9.45l-7.72 7.72c-.78.78-.78 2.05 0 2.83L4 21.41c.39.39.9.59 1.41.59.51 0 1.02-.2 1.41-.59l7.78-7.78 2.81-2.81c.8-.78.8-2.07 0-2.86zM5.41 20L4 18.59l7.72-7.72 1.47 1.35L5.41 20z\"/>\n",
              "  </svg>\n",
              "      </button>\n",
              "      \n",
              "  <style>\n",
              "    .colab-df-container {\n",
              "      display:flex;\n",
              "      flex-wrap:wrap;\n",
              "      gap: 12px;\n",
              "    }\n",
              "\n",
              "    .colab-df-convert {\n",
              "      background-color: #E8F0FE;\n",
              "      border: none;\n",
              "      border-radius: 50%;\n",
              "      cursor: pointer;\n",
              "      display: none;\n",
              "      fill: #1967D2;\n",
              "      height: 32px;\n",
              "      padding: 0 0 0 0;\n",
              "      width: 32px;\n",
              "    }\n",
              "\n",
              "    .colab-df-convert:hover {\n",
              "      background-color: #E2EBFA;\n",
              "      box-shadow: 0px 1px 2px rgba(60, 64, 67, 0.3), 0px 1px 3px 1px rgba(60, 64, 67, 0.15);\n",
              "      fill: #174EA6;\n",
              "    }\n",
              "\n",
              "    [theme=dark] .colab-df-convert {\n",
              "      background-color: #3B4455;\n",
              "      fill: #D2E3FC;\n",
              "    }\n",
              "\n",
              "    [theme=dark] .colab-df-convert:hover {\n",
              "      background-color: #434B5C;\n",
              "      box-shadow: 0px 1px 3px 1px rgba(0, 0, 0, 0.15);\n",
              "      filter: drop-shadow(0px 1px 2px rgba(0, 0, 0, 0.3));\n",
              "      fill: #FFFFFF;\n",
              "    }\n",
              "  </style>\n",
              "\n",
              "      <script>\n",
              "        const buttonEl =\n",
              "          document.querySelector('#df-5a792727-fcc1-4e7d-b7ba-1e389b3dd42e button.colab-df-convert');\n",
              "        buttonEl.style.display =\n",
              "          google.colab.kernel.accessAllowed ? 'block' : 'none';\n",
              "\n",
              "        async function convertToInteractive(key) {\n",
              "          const element = document.querySelector('#df-5a792727-fcc1-4e7d-b7ba-1e389b3dd42e');\n",
              "          const dataTable =\n",
              "            await google.colab.kernel.invokeFunction('convertToInteractive',\n",
              "                                                     [key], {});\n",
              "          if (!dataTable) return;\n",
              "\n",
              "          const docLinkHtml = 'Like what you see? Visit the ' +\n",
              "            '<a target=\"_blank\" href=https://colab.research.google.com/notebooks/data_table.ipynb>data table notebook</a>'\n",
              "            + ' to learn more about interactive tables.';\n",
              "          element.innerHTML = '';\n",
              "          dataTable['output_type'] = 'display_data';\n",
              "          await google.colab.output.renderOutput(dataTable, element);\n",
              "          const docLink = document.createElement('div');\n",
              "          docLink.innerHTML = docLinkHtml;\n",
              "          element.appendChild(docLink);\n",
              "        }\n",
              "      </script>\n",
              "    </div>\n",
              "  </div>\n",
              "  "
            ]
          },
          "metadata": {},
          "execution_count": 18
        }
      ]
    },
    {
      "cell_type": "markdown",
      "source": [
        "- **Promedio del área de todos los inmuebles en los barrios en el dataset. El top 10;**\n",
        "\n"
      ],
      "metadata": {
        "id": "8k2iVblY6LPq"
      }
    },
    {
      "cell_type": "code",
      "source": [
        "inmuebles.groupby(['Barrio'])['Area'].mean().nlargest(10).plot.bar()"
      ],
      "metadata": {
        "colab": {
          "base_uri": "https://localhost:8080/",
          "height": 599
        },
        "id": "4r6Ercmq2UMM",
        "outputId": "190f1ce4-7581-4b61-f30b-5735b347d9ef"
      },
      "execution_count": null,
      "outputs": [
        {
          "output_type": "execute_result",
          "data": {
            "text/plain": [
              "<Axes: xlabel='Barrio'>"
            ]
          },
          "metadata": {},
          "execution_count": 19
        },
        {
          "output_type": "display_data",
          "data": {
            "text/plain": [
              "<Figure size 640x480 with 1 Axes>"
            ],
            "image/png": "[encoded data removed]"
          },
          "metadata": {}
        }
      ]
    },
    {
      "cell_type": "markdown",
      "source": [
        "\n",
        "\n",
        "*   **Consultar otros datos estadísticos, conteo, mediana, valores mínimo y máximo.**\n",
        "\n"
      ],
      "metadata": {
        "id": "s0npkdUw6n5J"
      }
    },
    {
      "cell_type": "markdown",
      "source": [
        "\n",
        "1. Conteo:"
      ],
      "metadata": {
        "id": "mW8wjeuT7fvn"
      }
    },
    {
      "cell_type": "code",
      "source": [
        "inmuebles.groupby('Barrio')['Area'].count()"
      ],
      "metadata": {
        "colab": {
          "base_uri": "https://localhost:8080/"
        },
        "id": "u5I3GP6p6noa",
        "outputId": "09f5a927-080b-4267-9804-3113a9eceb6a"
      },
      "execution_count": null,
      "outputs": [
        {
          "output_type": "execute_result",
          "data": {
            "text/plain": [
              "Barrio\n",
              "Alameda                 1\n",
              "Alhambra               17\n",
              "Andes Norte             7\n",
              "Antonio Nariño         48\n",
              "Barrancas              15\n",
              "                     ... \n",
              "Villa Maria            13\n",
              "Villas De Granada      22\n",
              "Villemar               18\n",
              "Zona Franca             1\n",
              "Zona Noroccidental    877\n",
              "Name: Area, Length: 149, dtype: int64"
            ]
          },
          "metadata": {},
          "execution_count": 20
        }
      ]
    },
    {
      "cell_type": "markdown",
      "source": [
        "2. Mediana:"
      ],
      "metadata": {
        "id": "EdUdCdk37l3b"
      }
    },
    {
      "cell_type": "code",
      "source": [
        "inmuebles.groupby('Barrio')['Area'].median()"
      ],
      "metadata": {
        "colab": {
          "base_uri": "https://localhost:8080/"
        },
        "id": "OPl6x3R87oej",
        "outputId": "00ec113c-0a24-425d-dee5-7a10e8f98c57"
      },
      "execution_count": null,
      "outputs": [
        {
          "output_type": "execute_result",
          "data": {
            "text/plain": [
              "Barrio\n",
              "Alameda                97.0\n",
              "Alhambra              164.0\n",
              "Andes Norte           108.0\n",
              "Antonio Nariño         72.0\n",
              "Barrancas              75.0\n",
              "                      ...  \n",
              "Villa Maria           222.0\n",
              "Villas De Granada      64.0\n",
              "Villemar               59.0\n",
              "Zona Franca            54.0\n",
              "Zona Noroccidental     78.0\n",
              "Name: Area, Length: 149, dtype: float64"
            ]
          },
          "metadata": {},
          "execution_count": 21
        }
      ]
    },
    {
      "cell_type": "markdown",
      "source": [
        "3. Valor mínimo"
      ],
      "metadata": {
        "id": "B8g3GV3s8E35"
      }
    },
    {
      "cell_type": "code",
      "source": [
        "inmuebles.groupby('Barrio')['Area'].min()"
      ],
      "metadata": {
        "colab": {
          "base_uri": "https://localhost:8080/"
        },
        "id": "juISoXEB8ENe",
        "outputId": "e0642d9d-e050-41ff-8004-3be510af293e"
      },
      "execution_count": null,
      "outputs": [
        {
          "output_type": "execute_result",
          "data": {
            "text/plain": [
              "Barrio\n",
              "Alameda               97\n",
              "Alhambra              50\n",
              "Andes Norte           42\n",
              "Antonio Nariño        32\n",
              "Barrancas             63\n",
              "                      ..\n",
              "Villa Maria           51\n",
              "Villas De Granada     50\n",
              "Villemar              45\n",
              "Zona Franca           54\n",
              "Zona Noroccidental    16\n",
              "Name: Area, Length: 149, dtype: int64"
            ]
          },
          "metadata": {},
          "execution_count": 23
        }
      ]
    },
    {
      "cell_type": "markdown",
      "source": [
        "4. Valor máximo"
      ],
      "metadata": {
        "id": "1R647uPO8awi"
      }
    },
    {
      "cell_type": "code",
      "source": [
        "inmuebles.groupby('Barrio')['Area'].max()"
      ],
      "metadata": {
        "colab": {
          "base_uri": "https://localhost:8080/"
        },
        "id": "ZwQCCA4H8afu",
        "outputId": "3d1f86e4-421e-4aca-b319-6bc53723a2d5"
      },
      "execution_count": null,
      "outputs": [
        {
          "output_type": "execute_result",
          "data": {
            "text/plain": [
              "Barrio\n",
              "Alameda                 97\n",
              "Alhambra               360\n",
              "Andes Norte            180\n",
              "Antonio Nariño         554\n",
              "Barrancas               78\n",
              "                      ... \n",
              "Villa Maria            222\n",
              "Villas De Granada      260\n",
              "Villemar               224\n",
              "Zona Franca             54\n",
              "Zona Noroccidental    5458\n",
              "Name: Area, Length: 149, dtype: int64"
            ]
          },
          "metadata": {},
          "execution_count": 24
        }
      ]
    }
  ]
}